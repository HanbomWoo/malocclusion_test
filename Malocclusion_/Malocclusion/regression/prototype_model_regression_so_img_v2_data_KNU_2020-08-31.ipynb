{
 "cells": [
  {
   "cell_type": "markdown",
   "metadata": {},
   "source": [
    "# Prototype Model\n",
    "---\n",
    "\n",
    "* Regression\n",
    "* 2009data로 class1,2,3 10fo\n",
    "https://docs.google.com/presentation/d/1cI3teBcQoGBhfrdVrv9rnM4jHGaPToDS7Zh7t0q7GKg/edit#slide=id.g97e66187c6_0_6"
   ]
  },
  {
   "cell_type": "code",
   "execution_count": 1,
   "metadata": {},
   "outputs": [],
   "source": [
    "import tensorflow as tf"
   ]
  },
  {
   "cell_type": "code",
   "execution_count": 2,
   "metadata": {},
   "outputs": [
    {
     "data": {
      "text/plain": [
       "[name: \"/device:CPU:0\"\n",
       " device_type: \"CPU\"\n",
       " memory_limit: 268435456\n",
       " locality {\n",
       " }\n",
       " incarnation: 10644632304422114306,\n",
       " name: \"/device:XLA_CPU:0\"\n",
       " device_type: \"XLA_CPU\"\n",
       " memory_limit: 17179869184\n",
       " locality {\n",
       " }\n",
       " incarnation: 2015962619349958193\n",
       " physical_device_desc: \"device: XLA_CPU device\",\n",
       " name: \"/device:GPU:0\"\n",
       " device_type: \"GPU\"\n",
       " memory_limit: 10862362624\n",
       " locality {\n",
       "   bus_id: 1\n",
       "   links {\n",
       "   }\n",
       " }\n",
       " incarnation: 10839839769697288261\n",
       " physical_device_desc: \"device: 0, name: GeForce GTX 1080 Ti, pci bus id: 0000:03:00.0, compute capability: 6.1\",\n",
       " name: \"/device:XLA_GPU:0\"\n",
       " device_type: \"XLA_GPU\"\n",
       " memory_limit: 17179869184\n",
       " locality {\n",
       " }\n",
       " incarnation: 12438431685699448190\n",
       " physical_device_desc: \"device: XLA_GPU device\"]"
      ]
     },
     "execution_count": 2,
     "metadata": {},
     "output_type": "execute_result"
    }
   ],
   "source": [
    "import tensorflow as tf\n",
    "tf.__version__\n",
    "from tensorflow.python.client import device_lib\n",
    "device_lib.list_local_devices()\n"
   ]
  },
  {
   "cell_type": "code",
   "execution_count": 3,
   "metadata": {},
   "outputs": [
    {
     "name": "stdout",
     "output_type": "stream",
     "text": [
      "env: PYTHONHASHSEED=0\n"
     ]
    }
   ],
   "source": [
    "%env PYTHONHASHSEED=0\n",
    "from random import seed as random_seed\n",
    "random_seed(42)\n",
    "from numpy.random import seed as np_random_seed\n",
    "np_random_seed(42)\n",
    "\n",
    "import glob\n",
    "import os\n",
    "import pprint\n",
    "from tqdm import tqdm\n",
    "\n",
    "from IPython import display\n",
    "import ipywidgets as widgets\n",
    "\n",
    "# Data Science\n",
    "%matplotlib inline\n",
    "from matplotlib import pyplot as plt\n",
    "plt.style.use('seaborn-white')\n",
    "import numpy as np\n",
    "import pandas as pd\n",
    "import seaborn as sns\n",
    "sns.set_style('white')\n",
    "\n",
    "import cv2 as cv"
   ]
  },
  {
   "cell_type": "code",
   "execution_count": null,
   "metadata": {},
   "outputs": [],
   "source": [
    "from sklearn.model_selection import StratifiedKFold\n",
    "from sklearn.model_selection import train_test_split\n",
    "from sklearn.metrics import confusion_matrix\n",
    "import tensorflow as tf\n",
    "from tensorflow.keras import models, layers, activations, initializers, regularizers, optimizers, losses, callbacks\n",
    "from tensorflow.keras import backend as K\n",
    "from tensorflow.keras.applications.inception_resnet_v2 import InceptionResNetV2"
   ]
  },
  {
   "cell_type": "markdown",
   "metadata": {},
   "source": [
    "## Paths\n",
    "---"
   ]
  },
  {
   "cell_type": "code",
   "execution_count": null,
   "metadata": {},
   "outputs": [],
   "source": [
    "so_type = 'so_rl'\n",
    "\n",
    "input_path_root = r'/sgcwhb/Malocclusion/data/input_data/'\n",
    "\n",
    "# output_path_root = r'../results/'\n",
    "output_path_root = r'/sgcwhb/Malocclusion/results'\n",
    "output_path = os.path.join(output_path_root, r'prototype_regression_so_img/', so_type)\n",
    "# output_path_weight = os.path.join(output_path, r'weights/')\n",
    "\n",
    "# try:\n",
    "#     os.makedirs(output_path_weight)\n",
    "# except FileExistsError as err: \n",
    "#     print(err)\n",
    "# else:\n",
    "#     print(output_path)\n",
    "#     print(output_path_weight)"
   ]
  },
  {
   "cell_type": "code",
   "execution_count": null,
   "metadata": {},
   "outputs": [],
   "source": [
    "input_path_root"
   ]
  },
  {
   "cell_type": "code",
   "execution_count": null,
   "metadata": {},
   "outputs": [],
   "source": [
    "output_path_root"
   ]
  },
  {
   "cell_type": "markdown",
   "metadata": {},
   "source": [
    "## Data\n",
    "---\n",
    "- Class 0 : 분별하기 어려운 data (65 sample) -> 제외\n",
    "\n",
    "- Class 3 : 하악이 상악보다 앞으로 돌출된 경우 (1136 sample) -> -1.0\n",
    "- Class 1 : 상하악의 맞물림 상태는 정상이지만 치열이 고르지 않은 경우 (1707 sample) -> 0.0\n",
    "- Class 2 : 상악이 하악보다 앞으로 돌출된 경우 (1175 sample) -> 1.0\n"
   ]
  },
  {
   "cell_type": "code",
   "execution_count": null,
   "metadata": {},
   "outputs": [],
   "source": [
    "def convert_label_class2reg(label_df):\n",
    "    label_r = np.copy(label_df.angle_class_r)\n",
    "    label_df.loc[label_r == 1, 'angle_class_r'] = 0\n",
    "    label_df.loc[label_r == 2, 'angle_class_r'] = 1\n",
    "    label_df.loc[label_r == 3, 'angle_class_r'] = -1\n",
    "    \n",
    "    label_l = np.copy(label_df.angle_class_l)\n",
    "    label_df.loc[label_l == 1, 'angle_class_l'] = 0\n",
    "    label_df.loc[label_l == 2, 'angle_class_l'] = 1\n",
    "    label_df.loc[label_l == 3, 'angle_class_l'] = -1\n",
    "    \n",
    "    return label_df\n",
    "\n",
    "def generate_data_by_patient(x, y):\n",
    "    if x.shape[-1] == 12:\n",
    "        x = np.concatenate([x[..., :3], x[..., 3:6], x[..., 6:9], x[..., 9:]])\n",
    "        y = np.concatenate([y[:, 0], y[:, 1], y[:, 2], y[:, 3]])\n",
    "    elif x.shape[-1] == 6:\n",
    "        x = np.concatenate([x[..., :3], x[..., 3:]])\n",
    "        y = np.concatenate([y[:, 0], y[:, 1]])\n",
    "    \n",
    "    return x, y\n",
    "\n",
    "# def generate_info_df_by_patient(info_df):\n",
    "#     info_df_r = info_df.copy()\n",
    "#     for row_idx, info in enumerate(info_df_r['info']):\n",
    "#         info_df_r.iloc[row_idx] = info + '_r'\n",
    "        \n",
    "#     info_df_l = info_df.copy()\n",
    "#     for row_idx, info in enumerate(info_df_l['info']):\n",
    "#         info_df_l.iloc[row_idx] = info + '_l'\n",
    "    \n",
    "#     info_df = pd.concat((info_df_r, info_df_l), ignore_index=True)\n",
    "#     del info_df_r, info_df_l\n",
    "    \n",
    "#     info_df1 = info_df.copy()\n",
    "        \n",
    "#     info_df2 = info_df.copy()\n",
    "#     for row_idx, info in enumerate(info_df2['info']):\n",
    "#         info_df2.iloc[row_idx] = info.replace('01A1', '02B1')\n",
    "    \n",
    "#     info_df = pd.concat((info_df1, info_df2), ignore_index=True)\n",
    "#     del info_df1, info_df2\n",
    "\n",
    "#     return info_df"
   ]
  },
  {
   "cell_type": "code",
   "execution_count": null,
   "metadata": {},
   "outputs": [],
   "source": [
    "x = np.load(os.path.join(input_path_root, f'data_KNU_Diorco_so_imgs.npy'))\n",
    "label_df = pd.read_csv(os.path.join(input_path_root, f'data_KNU_Diorco_so_img_labels.csv'))\n",
    "label_df = convert_label_class2reg(label_df)\n",
    "\n",
    "y = label_df.loc[:, ['angle_class_r', 'angle_class_l']].to_numpy()\n",
    "\n",
    "x = x.astype(np.float32)\n",
    "y = y.astype(np.float32)\n",
    "\n",
    "x = x / 127.5\n",
    "x = x - 1.\n",
    "\n",
    "#x = np.concatenate((x[::2, ...], x[1::2, ...]), axis=3)\n",
    "#y = np.concatenate((y[::2, ...], y[1::2, ...]), axis=1)"
   ]
  },
  {
   "cell_type": "code",
   "execution_count": null,
   "metadata": {},
   "outputs": [],
   "source": [
    "print(x.dtype, x.shape)\n",
    "print(y.dtype, y.shape)\n",
    "print()\n",
    "display.display(label_df.info())\n",
    "display.display(label_df)\n",
    "\n",
    "plt.style.use('seaborn-whitegrid')\n",
    "plt.figure()\n",
    "\n",
    "plt.title('Label')\n",
    "sns.countplot(np.concatenate([label_df.angle_class_r, label_df.angle_class_l]))\n",
    "\n",
    "plt.show()\n",
    "plt.style.use('seaborn-white')"
   ]
  },
  {
   "cell_type": "code",
   "execution_count": null,
   "metadata": {},
   "outputs": [],
   "source": [
    "cnt = np.concatenate([label_df.angle_class_r, label_df.angle_class_l])\n",
    "cnt.shape"
   ]
  },
  {
   "cell_type": "code",
   "execution_count": null,
   "metadata": {},
   "outputs": [],
   "source": [
    "len(cnt[cnt==-1])"
   ]
  },
  {
   "cell_type": "code",
   "execution_count": null,
   "metadata": {},
   "outputs": [],
   "source": [
    "len(cnt[cnt==0])"
   ]
  },
  {
   "cell_type": "code",
   "execution_count": null,
   "metadata": {},
   "outputs": [],
   "source": [
    "len(cnt[cnt==1])"
   ]
  },
  {
   "cell_type": "code",
   "execution_count": null,
   "metadata": {},
   "outputs": [],
   "source": [
    "len(cnt[cnt==-1]) + len(cnt[cnt==0]) + len(cnt[cnt==1])"
   ]
  },
  {
   "cell_type": "markdown",
   "metadata": {},
   "source": [
    "## Model\n",
    "---"
   ]
  },
  {
   "cell_type": "code",
   "execution_count": null,
   "metadata": {},
   "outputs": [],
   "source": [
    "def build_model():\n",
    "    base_model = InceptionResNetV2(include_top=False, weights=None, input_shape=(None, None, 3))\n",
    "\n",
    "#     base_model.trainable = False\n",
    "\n",
    "#     for layer in base_model.layers:\n",
    "#         layer.trainable = False\n",
    "\n",
    "    # base_model.summary()\n",
    "\n",
    "    x = base_model.output\n",
    "\n",
    "    x = layers.GlobalAveragePooling2D(name='gap')(x)\n",
    "    x = layers.Dense(256, activation='relu', name='dense')(x)\n",
    "    x = layers.Dropout(0.2, name='dropout')(x)\n",
    "    output_main = layers.Dense(1, name='output_main')(x)\n",
    "\n",
    "    model = models.Model(inputs=base_model.input, outputs=output_main)\n",
    "    \n",
    "    return model"
   ]
  },
  {
   "cell_type": "markdown",
   "metadata": {},
   "source": [
    "## Train the Model\n",
    "---"
   ]
  },
  {
   "cell_type": "code",
   "execution_count": null,
   "metadata": {},
   "outputs": [],
   "source": [
    "kfold = StratifiedKFold(n_splits=10, shuffle=True, random_state=42)\n",
    "for kfold_idx, (train_idxs, test_idxs) in enumerate(kfold.split(x, y[:, 0])):\n",
    "    if kfold_idx==8:\n",
    "        display.clear_output(wait=True)\n",
    "        print(f'K-Fold CV: {kfold_idx + 1:02d}/{kfold.n_splits:02d}')\n",
    "        \n",
    "        x_train = x[train_idxs]\n",
    "        y_train = y[train_idxs]\n",
    "        label_df_train = label_df.iloc[train_idxs]\n",
    "\n",
    "        x_train, x_val, y_train, y_val, label_df_train, label_df_val = train_test_split(x_train, y_train, label_df_train, test_size=0.2, \n",
    "                                                                                        random_state=42, stratify=y_train[:, 0])\n",
    "\n",
    "        x_test = x[test_idxs]\n",
    "        y_test = y[test_idxs]\n",
    "        label_df_test = label_df.iloc[test_idxs]\n",
    "\n",
    "        x_train, y_train = generate_data_by_patient(x_train, y_train)\n",
    "        x_val, y_val = generate_data_by_patient(x_val, y_val)\n",
    "        x_test, y_test = generate_data_by_patient(x_test, y_test)\n",
    "        \n",
    "        output_path_kfold = os.path.join(output_path, f'kfold_{kfold_idx + 1:02d}/')\n",
    "        output_path_weight = os.path.join(output_path_kfold, r'weights/')\n",
    "        \n",
    "        if os.path.isdir(output_path_weight)==False:\n",
    "            os.makedirs(output_path_weight)\n",
    "            \n",
    "        if kfold_idx == 0:\n",
    "            model = build_model()\n",
    "\n",
    "            model.compile(optimizer=optimizers.Adam(lr=1e-3),\n",
    "                          loss=losses.MeanSquaredError(),\n",
    "                          metrics=['mae'])\n",
    "\n",
    "            model.save(os.path.join(output_path, r'model.hdf5'))\n",
    "\n",
    "        # model.summary()\n",
    "        else:\n",
    "            model = models.load_model(os.path.join(output_path, r'model.hdf5'))\n",
    "        \n",
    "        checkpointer = callbacks.ModelCheckpoint(os.path.join(output_path_weight, 'weights_{epoch:08d}_{val_loss:.4g}.hdf5'),\n",
    "                                                 save_weights_only=True)\n",
    "        csv_logger = callbacks.CSVLogger(os.path.join(output_path_kfold, r'log.csv'), append=True)\n",
    "        \n",
    "        # Training batch size 16 -> 8\n",
    "        model.fit(x_train, y_train,\n",
    "                  batch_size=8,\n",
    "                  epochs=50,\n",
    "                  validation_data=(x_val, y_val),\n",
    "                  callbacks=[checkpointer, csv_logger],\n",
    "                  initial_epoch=7,\n",
    "                  verbose=1)\n",
    "\n",
    "        K.clear_session()\n",
    "        del model"
   ]
  },
  {
   "cell_type": "code",
   "execution_count": null,
   "metadata": {},
   "outputs": [],
   "source": []
  },
  {
   "cell_type": "markdown",
   "metadata": {},
   "source": [
    "## Evaluation\n",
    "---"
   ]
  },
  {
   "cell_type": "code",
   "execution_count": null,
   "metadata": {},
   "outputs": [],
   "source": [
    "metrics = []\n",
    "predictions_kfold = []\n",
    "labels_kfold = []\n",
    "\n",
    "kfold = StratifiedKFold(n_splits=10, shuffle=True, random_state=42)\n",
    "\n",
    "for kfold_idx, (train_idxs, test_idxs) in enumerate(kfold.split(x, y[:, 0])):\n",
    "    print(f'K-Fold CV: {kfold_idx + 1:02d}/{kfold.n_splits:02d}')\n",
    "    \n",
    "    # 1. Data\n",
    "    # ----------------------------------------\n",
    "    \n",
    "    x_test = x[test_idxs]\n",
    "    y_test = y[test_idxs]\n",
    "    label_df_test = label_df.iloc[test_idxs]\n",
    "    \n",
    "    x_test, y_test = generate_data_by_patient(x_test, y_test)\n",
    "    \n",
    "    # 2. Paths\n",
    "    # ----------------------------------------\n",
    "    \n",
    "    output_path_kfold = os.path.join(output_path, f'kfold_{kfold_idx + 1:02d}/')\n",
    "    output_path_weight = os.path.join(output_path_kfold, r'weights/')\n",
    "\n",
    "    # 3. Plot Learning Curves.\n",
    "    # ----------------------------------------\n",
    "    \n",
    "    log_df = pd.read_csv(os.path.join(output_path_kfold, r'log.csv'))\n",
    "    \n",
    "    plt.style.use('seaborn-whitegrid')\n",
    "    plt.figure(figsize=(16, 6))\n",
    "    \n",
    "    plt.subplot(121)\n",
    "    plt.title(f'Learning Curves ({kfold_idx + 1:02d}/{kfold.n_splits:02d})')\n",
    "    plt.plot(log_df.loss)\n",
    "    plt.plot(log_df.val_loss)\n",
    "    plt.ylim(0, 1.5)\n",
    "    plt.legend(('Train Loss', 'Validation Loss'))\n",
    "    \n",
    "    plt.subplot(122)\n",
    "    plt.plot(log_df.mae)\n",
    "    plt.plot(log_df.val_mae)\n",
    "    plt.ylim(0, 1.5)\n",
    "    plt.legend(('Train MAE', 'Validation MAE'))\n",
    "    \n",
    "    plt.show()\n",
    "    plt.style.use('seaborn-white')\n",
    "    print(f'Min. validation loss epoch: {log_df.val_loss.idxmin() + 1}')\n",
    "    print(f'Min. validation MAE epoch: {log_df.val_mae.idxmin() + 1}')\n",
    "    \n",
    "    # 4. Load a Model.\n",
    "    # ----------------------------------------\n",
    "    \n",
    "    K.clear_session()\n",
    "    \n",
    "    model = models.load_model(os.path.join(output_path, r'model.hdf5'))\n",
    "    model.load_weights(glob.glob(os.path.join(output_path_weight, f'weights_{log_df.val_mae.idxmin() + 1:08d}*.hdf5'))[0])\n",
    "    \n",
    "    # 5. Display\n",
    "    # ----------------------------------------\n",
    "\n",
    "    \n",
    "\n",
    "    predictions_test = model.predict(x_test)\n",
    "    predictions_kfold.append(predictions_test.ravel())\n",
    "    labels_kfold.append(y_test)\n",
    "    metrics.append(model.evaluate(x_test, y_test, verbose=0))\n",
    "    \n",
    "    plt.figure(figsize=(16, 8))\n",
    "\n",
    "    plt.subplot(121)\n",
    "    data_idx1 = 0\n",
    "    title = ' '.join(map(str, label_df_test.iloc[data_idx1, :3]))\n",
    "    prediction = predictions_test[data_idx1, 0]\n",
    "    plt.title(f'{title} (R)')\n",
    "    plt.imshow((x_test[data_idx1] + 1) / 2)\n",
    "    plt.xlabel(f'Label: {y_test[data_idx1]}\\nPrediction: {round(prediction)} ({prediction:.3f})')\n",
    "    \n",
    "    plt.subplot(122)\n",
    "    data_idx2 = data_idx1 + len(x_test) // 2\n",
    "    prediction = predictions_test[data_idx2, 0]\n",
    "    plt.title(f'{title} (L)')\n",
    "    plt.imshow((np.fliplr(x_test[data_idx2]) + 1) / 2)\n",
    "    plt.xlabel(f'Label: {y_test[data_idx2]}\\nPrediction: {round(prediction)} ({prediction:.3f})')\n",
    "\n",
    "    plt.show()\n",
    "    print('', end='\\n\\n')\n",
    "else:\n",
    "    predictions_prob_kfold = np.concatenate(predictions_kfold)\n",
    "    predictions_kfold = np.round(predictions_prob_kfold)\n",
    "#     predictions_kfold[predictions_kfold < -1] = -1\n",
    "#     predictions_kfold[predictions_kfold > 1] = 1\n",
    "    labels_kfold = np.concatenate(labels_kfold)"
   ]
  },
  {
   "cell_type": "code",
   "execution_count": null,
   "metadata": {},
   "outputs": [],
   "source": [
    "kfold_results_df = pd.DataFrame(metrics, columns=('test_loss', 'test_mae'))\n",
    "\n",
    "kfold_results_df"
   ]
  },
  {
   "cell_type": "code",
   "execution_count": null,
   "metadata": {},
   "outputs": [],
   "source": [
    "kfold_results_df.describe()"
   ]
  },
  {
   "cell_type": "code",
   "execution_count": null,
   "metadata": {},
   "outputs": [],
   "source": [
    "predictions_kfold.shape"
   ]
  },
  {
   "cell_type": "code",
   "execution_count": null,
   "metadata": {},
   "outputs": [],
   "source": [
    "cm = confusion_matrix(labels_kfold, predictions_kfold, labels=[-1, 0, 1])\n",
    "\n",
    "print(cm)\n",
    "print(\"\")\n",
    "print(f'Accuracy: {(cm[0, 0] + cm[1, 1] + cm[2, 2]) / cm.sum():.3f}')"
   ]
  },
  {
   "cell_type": "code",
   "execution_count": null,
   "metadata": {},
   "outputs": [],
   "source": [
    "print(791 +311   +29+128+ 1437  +142+11+  225 + 939)\n"
   ]
  },
  {
   "cell_type": "code",
   "execution_count": null,
   "metadata": {},
   "outputs": [],
   "source": []
  },
  {
   "attachments": {
    "image.png": {
     "image/png": "[encoded data removed]"
    }
   },
   "cell_type": "markdown",
   "metadata": {},
   "source": [
    "![image.png](attachment:image.png)"
   ]
  },
  {
   "cell_type": "markdown",
   "metadata": {},
   "source": [
    "1. sensitivity, precision\n",
    "2. threshold값 "
   ]
  }
 ],
 "metadata": {
  "kernelspec": {
   "display_name": "Python 3",
   "language": "python",
   "name": "python3"
  },
  "language_info": {
   "codemirror_mode": {
    "name": "ipython",
    "version": 3
   },
   "file_extension": ".py",
   "mimetype": "text/x-python",
   "name": "python",
   "nbconvert_exporter": "python",
   "pygments_lexer": "ipython3",
   "version": "3.7.6"
  }
 },
 "nbformat": 4,
 "nbformat_minor": 4
}
